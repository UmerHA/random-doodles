{
 "cells": [
  {
   "cell_type": "code",
   "execution_count": null,
   "id": "e084c1de-085f-44fd-960f-5e36ef4e2c8a",
   "metadata": {},
   "outputs": [],
   "source": [
    "import timeit\n",
    "from collections.abc import Iterable\n",
    "from fastcore.imports import is_iter"
   ]
  },
  {
   "cell_type": "code",
   "execution_count": null,
   "id": "5baef865-fb7e-46d9-9b1b-d2a225a8634c",
   "metadata": {},
   "outputs": [],
   "source": [
    "o0 = [1, 2, 3]\n",
    "o1 = 123\n",
    "o2 = \"hello\"\n",
    "o3 = {1, 2, 3}\n",
    "o4 = {'a': 1, 'b': 2}\n",
    "o5 = None\n",
    "o6 = timeit     # a module\n",
    "o7 = lambda x:x"
   ]
  },
  {
   "cell_type": "code",
   "execution_count": null,
   "id": "1f6b2c0a-c065-4ae2-b991-0d131f563e07",
   "metadata": {},
   "outputs": [],
   "source": [
    "def isinstance_test(o): return isinstance(o, Iterable)\n",
    "def iter_test(o): return hasattr(o, '__iter__')\n",
    "def getitem_test(o): return hasattr(o, '__getitem__') # different meaning than __iter__, but okay for L.__eq__ check"
   ]
  },
  {
   "cell_type": "code",
   "execution_count": null,
   "id": "81359a20-9539-47f1-bd07-f7dc62e0ad93",
   "metadata": {},
   "outputs": [],
   "source": [
    "# verify methods do same thing (except getitem_test, as it has a slightly different meaning)\n",
    "for i in range(7): isinstance_test(globals()[f'o{i}'])==iter_test(globals()[f'o{i}'])\n",
    "for i in range(7): is_iter(globals()[f'o{i}'])==iter_test(globals()[f'o{i}'])    "
   ]
  },
  {
   "cell_type": "code",
   "execution_count": null,
   "id": "16c2370e-98c2-40c3-bb8c-13430a9d0554",
   "metadata": {},
   "outputs": [],
   "source": [
    "tst = isinstance_test"
   ]
  },
  {
   "cell_type": "code",
   "execution_count": null,
   "id": "a2ad3107-30e7-4e1e-b0d3-5ce0283970db",
   "metadata": {},
   "outputs": [
    {
     "name": "stdout",
     "output_type": "stream",
     "text": [
      "861 ns ± 6.18 ns per loop (mean ± std. dev. of 7 runs, 1,000,000 loops each)\n"
     ]
    }
   ],
   "source": [
    "%timeit tst(o0); tst(o1); tst(o2); tst(o3); tst(o4); tst(o5); tst(o6); tst(o7)"
   ]
  },
  {
   "cell_type": "code",
   "execution_count": null,
   "id": "0c8aa00c-285c-45f8-bbf9-fa004816c373",
   "metadata": {},
   "outputs": [],
   "source": [
    "tst = iter_test"
   ]
  },
  {
   "cell_type": "code",
   "execution_count": null,
   "id": "0ee39e8f-9060-4422-92a0-926c5954c530",
   "metadata": {},
   "outputs": [
    {
     "name": "stdout",
     "output_type": "stream",
     "text": [
      "626 ns ± 5.72 ns per loop (mean ± std. dev. of 7 runs, 1,000,000 loops each)\n"
     ]
    }
   ],
   "source": [
    "%timeit tst(o0); tst(o1); tst(o2); tst(o3); tst(o4); tst(o5); tst(o6); tst(o7)"
   ]
  },
  {
   "cell_type": "code",
   "execution_count": null,
   "id": "f6807c48-f5f7-4408-a6f5-c81e86e01833",
   "metadata": {},
   "outputs": [],
   "source": [
    "tst = getitem_test"
   ]
  },
  {
   "cell_type": "code",
   "execution_count": null,
   "id": "a480a977-991d-4dd3-b00a-399b5648b8a3",
   "metadata": {},
   "outputs": [
    {
     "name": "stdout",
     "output_type": "stream",
     "text": [
      "632 ns ± 6.5 ns per loop (mean ± std. dev. of 7 runs, 1,000,000 loops each)\n"
     ]
    }
   ],
   "source": [
    "%timeit tst(o0); tst(o1); tst(o2); tst(o3); tst(o4); tst(o5); tst(o6); tst(o7)"
   ]
  },
  {
   "cell_type": "code",
   "execution_count": null,
   "id": "e477c598-e650-4d6f-aac3-c9431d895663",
   "metadata": {},
   "outputs": [],
   "source": [
    "tst = is_iter"
   ]
  },
  {
   "cell_type": "code",
   "execution_count": null,
   "id": "82250995-9ef3-4115-a4e2-6bde4fbf8390",
   "metadata": {},
   "outputs": [
    {
     "name": "stdout",
     "output_type": "stream",
     "text": [
      "3.18 µs ± 30.1 ns per loop (mean ± std. dev. of 7 runs, 100,000 loops each)\n"
     ]
    }
   ],
   "source": [
    "%timeit tst(o0); tst(o1); tst(o2); tst(o3); tst(o4); tst(o5); tst(o6); tst(o7)"
   ]
  },
  {
   "cell_type": "code",
   "execution_count": null,
   "id": "b4d1ce22-f485-49db-b80a-e21ee9269d24",
   "metadata": {},
   "outputs": [],
   "source": []
  }
 ],
 "metadata": {
  "kernelspec": {
   "display_name": "python3",
   "language": "python",
   "name": "python3"
  }
 },
 "nbformat": 4,
 "nbformat_minor": 5
}
