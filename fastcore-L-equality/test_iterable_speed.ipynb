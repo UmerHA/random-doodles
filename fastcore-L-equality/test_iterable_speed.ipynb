{
 "cells": [
  {
   "cell_type": "code",
   "execution_count": null,
   "id": "e084c1de-085f-44fd-960f-5e36ef4e2c8a",
   "metadata": {},
   "outputs": [],
   "source": [
    "import timeit\n",
    "from collections.abc import Iterable"
   ]
  },
  {
   "cell_type": "code",
   "execution_count": null,
   "id": "5baef865-fb7e-46d9-9b1b-d2a225a8634c",
   "metadata": {},
   "outputs": [],
   "source": [
    "o0 = [1, 2, 3]\n",
    "o1 = 123\n",
    "o2 = \"hello\"\n",
    "o3 = {1, 2, 3}\n",
    "o4 = {'a': 1, 'b': 2}\n",
    "o5 = None\n",
    "o6 = timeit     # a module\n",
    "o7 = lambda x:x"
   ]
  },
  {
   "cell_type": "code",
   "execution_count": null,
   "id": "1f6b2c0a-c065-4ae2-b991-0d131f563e07",
   "metadata": {},
   "outputs": [],
   "source": [
    "def isinstance_test(o): return isinstance(o, Iterable)\n",
    "def iter_test(o): return hasattr(o, '__iter__')\n",
    "def getitem_test(o): return hasattr(o, '__getitem__')"
   ]
  },
  {
   "cell_type": "code",
   "execution_count": null,
   "id": "16c2370e-98c2-40c3-bb8c-13430a9d0554",
   "metadata": {},
   "outputs": [],
   "source": [
    "tst = isinstance_test"
   ]
  },
  {
   "cell_type": "code",
   "execution_count": null,
   "id": "a2ad3107-30e7-4e1e-b0d3-5ce0283970db",
   "metadata": {},
   "outputs": [
    {
     "name": "stdout",
     "output_type": "stream",
     "text": [
      "858 ns ± 10.8 ns per loop (mean ± std. dev. of 7 runs, 1,000,000 loops each)\n"
     ]
    }
   ],
   "source": [
    "%timeit tst(o0); tst(o1); tst(o2); tst(o3); tst(o4); tst(o5); tst(o6); tst(o7)"
   ]
  },
  {
   "cell_type": "code",
   "execution_count": null,
   "id": "0c8aa00c-285c-45f8-bbf9-fa004816c373",
   "metadata": {},
   "outputs": [],
   "source": [
    "tst = iter_test"
   ]
  },
  {
   "cell_type": "code",
   "execution_count": null,
   "id": "0ee39e8f-9060-4422-92a0-926c5954c530",
   "metadata": {},
   "outputs": [
    {
     "name": "stdout",
     "output_type": "stream",
     "text": [
      "616 ns ± 4.7 ns per loop (mean ± std. dev. of 7 runs, 1,000,000 loops each)\n"
     ]
    }
   ],
   "source": [
    "%timeit tst(o0); tst(o1); tst(o2); tst(o3); tst(o4); tst(o5); tst(o6); tst(o7)"
   ]
  },
  {
   "cell_type": "code",
   "execution_count": null,
   "id": "f6807c48-f5f7-4408-a6f5-c81e86e01833",
   "metadata": {},
   "outputs": [],
   "source": [
    "tst = getitem_test"
   ]
  },
  {
   "cell_type": "code",
   "execution_count": null,
   "id": "a480a977-991d-4dd3-b00a-399b5648b8a3",
   "metadata": {},
   "outputs": [
    {
     "name": "stdout",
     "output_type": "stream",
     "text": [
      "617 ns ± 5.94 ns per loop (mean ± std. dev. of 7 runs, 1,000,000 loops each)\n"
     ]
    }
   ],
   "source": [
    "%timeit tst(o0); tst(o1); tst(o2); tst(o3); tst(o4); tst(o5); tst(o6); tst(o7)"
   ]
  }
 ],
 "metadata": {
  "kernelspec": {
   "display_name": "python3",
   "language": "python",
   "name": "python3"
  }
 },
 "nbformat": 4,
 "nbformat_minor": 5
}
